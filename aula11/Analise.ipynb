{
 "cells": [
  {
   "cell_type": "code",
   "execution_count": 33,
   "id": "ad7b2edc-4e98-4dd5-8da0-ed0cc966da53",
   "metadata": {},
   "outputs": [
    {
     "name": "stdout",
     "output_type": "stream",
     "text": [
      "Dicionário de vendas carregado.\n"
     ]
    }
   ],
   "source": [
    "vendas_agosto = {\n",
    "\"04/08/2025\": 2350,\n",
    "\"05/08/2025\": 1980,\n",
    "\"06/08/2025\": 2540,\n",
    "\"07/08/2025\": 2100,\n",
    "\"08/08/2025\": 3050,\n",
    "\"11/08/2025\": 2650,\n",
    "\"12/08/2025\": 2180,\n",
    "\"13/08/2025\": 2760,\n",
    "\"14/08/2025\": 2920,\n",
    "\"15/08/2025\": 3100,\n",
    "\"18/08/2025\": 2300,\n",
    "\"19/08/2025\": 2430,\n",
    "\"20/08/2025\": 2210,\n",
    "\"21/08/2025\": 2790,\n",
    "\"22/08/2025\": 2970,\n",
    "\"25/08/2025\": 3100,\n",
    "\"26/08/2025\": 2880,\n",
    "\"27/08/2025\": 2600,\n",
    "\"28/08/2025\": 2500,\n",
    "\"29/08/2025\": 3400\n",
    "}\n",
    "\n",
    "print(\"Dicionário de vendas carregado.\")"
   ]
  },
  {
   "cell_type": "code",
   "execution_count": 55,
   "id": "b955f381-0a1f-4929-9dc2-2630efa5adbf",
   "metadata": {},
   "outputs": [],
   "source": [
    "# Total do Mês (Soma total dos valores)\n",
    "vendas_totais = sum(vendas_agosto.values())\n",
    "\n",
    "# Número de dias de venda\n",
    "total_dias = len(vendas_agosto)\n",
    "\n",
    "# Média de vendas por dia\n",
    "media_diaria = vendas_totais / total_dias\n",
    "\n",
    "# Total da Semana (Usando os primeiros 5 dias de venda registrados)\n",
    "dias_primeira_semana = list(vendas_agosto.keys())[0:5]\n",
    "total_semanal = sum(vendas_agosto[dia] for dia in dias_primeira_semana)"
   ]
  },
  {
   "cell_type": "code",
   "execution_count": 57,
   "id": "1fa7287e-fac7-4366-b532-1f0f65be35ac",
   "metadata": {},
   "outputs": [],
   "source": [
    "# Melhor Dia de Vendas (Encontra a chave com o valor máximo)\n",
    "dia_melhor_venda = max(vendas_agosto, key=vendas_agosto.get)\n",
    "valor_melhor_venda = vendas_agosto[dia_melhor_venda]\n",
    "\n",
    "# Pior Dia de Vendas (Encontra a chave com o valor mínimo)\n",
    "dia_pior_venda = min(vendas_agosto, key=vendas_agosto.get)\n",
    "valor_pior_venda = vendas_agosto[dia_pior_venda]"
   ]
  },
  {
   "cell_type": "code",
   "execution_count": 39,
   "id": "60860399-1652-42fc-bce9-98ea2f318fbe",
   "metadata": {},
   "outputs": [],
   "source": [
    "# Diferença Percentual: ((Valor_Pico - Média) / Média) * 100\n",
    "diferenca_percentual = ((valor_melhor_venda - media_diaria) / media_diaria) * 100"
   ]
  },
  {
   "cell_type": "code",
   "execution_count": 65,
   "id": "1d050953-2458-4675-bff7-5254695411f8",
   "metadata": {},
   "outputs": [
    {
     "name": "stdout",
     "output_type": "stream",
     "text": [
      "s2 RELATÓRIO DE VENDAS MENSAL - AGOSTO 2025 s2\n",
      "Conforme solicitado, segue relatório:\n",
      "\n",
      "VENDAS TOTAIS\n",
      "Total de Vendas do Mês: R$ 52,810.00\n",
      "Total de Vendas da 1ª Semana (Exemplo: 04/08/2025 a 08/08/2025): R$ 12,020.00\n",
      "\n",
      "MÉDIA DIÁRIA\n",
      "Média de Vendas por Dia: R$ 2,640.50\n",
      "\n",
      "MELHOR DIA DE VENDAS\n",
      "Dia: 29/08/2025\n",
      "Valor Máximo: R$ 3,400.00\n",
      "\n",
      "PIOR DIA DE VENDAS\n",
      "Dia: 05/08/2025\n",
      "Valor Mínimo: R$ 1,980.00\n",
      "\n",
      "INSIGHT: PICO DE VENDAS vs MÉDIA\n",
      "O melhor dia de vendas foi 28.8% acima da média diária.\n"
     ]
    }
   ],
   "source": [
    "print(\"s2 RELATÓRIO DE VENDAS MENSAL - AGOSTO 2025 s2\")\n",
    "print(\"Conforme solicitado, segue relatório:\")\n",
    "print(\"\\nVENDAS TOTAIS\")\n",
    "print(f\"Total de Vendas do Mês: R$ {vendas_totais:,.2f}\")\n",
    "print(f\"Total de Vendas da 1ª Semana (Exemplo: {dias_primeira_semana[0]} a {dias_primeira_semana[-1]}): R$ {total_semanal:,.2f}\")\n",
    "\n",
    "print(\"\\nMÉDIA DIÁRIA\")\n",
    "print(f\"Média de Vendas por Dia: R$ {media_diaria:,.2f}\")\n",
    "\n",
    "print(\"\\nMELHOR DIA DE VENDAS\")\n",
    "print(f\"Dia: {dia_melhor_venda}\")\n",
    "print(f\"Valor Máximo: R$ {valor_melhor_venda:,.2f}\")\n",
    "\n",
    "print(\"\\nPIOR DIA DE VENDAS\")\n",
    "print(f\"Dia: {dia_pior_venda}\")\n",
    "print(f\"Valor Mínimo: R$ {valor_pior_venda:,.2f}\")\n",
    "\n",
    "print(\"\\nINSIGHT: PICO DE VENDAS vs MÉDIA\")\n",
    "print(f\"O melhor dia de vendas foi {diferenca_percentual:.1f}% acima da média diária.\")"
   ]
  },
  {
   "cell_type": "code",
   "execution_count": null,
   "id": "047e5ab3-9353-47f4-ada7-f62a50f38e83",
   "metadata": {},
   "outputs": [],
   "source": []
  }
 ],
 "metadata": {
  "kernelspec": {
   "display_name": "Python [conda env:base] *",
   "language": "python",
   "name": "conda-base-py"
  },
  "language_info": {
   "codemirror_mode": {
    "name": "ipython",
    "version": 3
   },
   "file_extension": ".py",
   "mimetype": "text/x-python",
   "name": "python",
   "nbconvert_exporter": "python",
   "pygments_lexer": "ipython3",
   "version": "3.12.7"
  }
 },
 "nbformat": 4,
 "nbformat_minor": 5
}
